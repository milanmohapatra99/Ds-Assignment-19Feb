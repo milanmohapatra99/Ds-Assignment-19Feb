{
 "cells": [
  {
   "cell_type": "markdown",
   "id": "f9a732ef-e04b-4842-bea1-9e9e7a2bcace",
   "metadata": {},
   "source": [
    "Que:1. What is Flask Framework?What are the advantages of Flask Framework?"
   ]
  },
  {
   "cell_type": "markdown",
   "id": "7268101a-c968-4372-abc2-b6f665a30b3c",
   "metadata": {},
   "source": [
    "Ans : Flask is a web framework that provides libraries to build lightweight web applications in python. Flask is amodular framework that is easy to use and provides flexibility for developers.\n",
    "\n",
    "advantages of using Flask are:\n",
    "\n",
    "Lightweight\n",
    "\n",
    "Integrated support for unit testing\n",
    "\n",
    "Built-in development server and fast debugger\n",
    "\n",
    "Restful request dispatching\n",
    "\n",
    "Unicode base\n",
    "\n",
    "Support for cookies\n",
    "\n",
    "Plus flask gives you some premier control to develop  project.\n",
    "\n",
    "HTTP request handling function\n",
    "\n",
    "Flask has a modular design and lightweight so that it can easy to transit into web framework with some extension\n",
    "\n",
    "Basic fundamental API is nicely shaped and coherent\n",
    "\n",
    "Highly flexible\n",
    "\n",
    "It is easy to deploy the flask in production\n",
    "\n",
    "Conclusion:\n",
    "\n",
    "Flask is the most policed and feature-rich micro framework. Flask comes with all its benefit of the fast template, strong WSGI features, and extensive documentation. Flask gives lots of good features, vast no of extension facility for a new project.\n",
    "\n",
    "\n",
    "    "
   ]
  },
  {
   "cell_type": "markdown",
   "id": "ca6aafa7-0e38-4c84-a8b6-149fc556a40b",
   "metadata": {},
   "source": [
    "Que:2. Create a simple Flask application to display ‘Hello World!!’. Attach the screenshot of the output in Jupyter Notebook."
   ]
  },
  {
   "cell_type": "code",
   "execution_count": null,
   "id": "a000f47a-c461-4689-ae4c-c2a34179f779",
   "metadata": {},
   "outputs": [],
   "source": [
    "from flask import Flask\n",
    "\n",
    "app = Flask(__name__)\n",
    "\n",
    "@app.route(\"/\")\n",
    "def hello_world():\n",
    "    return '<h1>Hello World!!</h1>'\n",
    "\n",
    "if __name__==\"__main__\":\n",
    "    app.run(host=\"0.0.0.0\")"
   ]
  },
  {
   "attachments": {
    "9e21c8f0-31b5-4566-918b-087885010021.png": {
     "image/png": "[encoded data removed]"
    }
   },
   "cell_type": "markdown",
   "id": "ef159f0d-9466-4a9f-9d35-b52a62243345",
   "metadata": {},
   "source": [
    "![Screenshot (18).png](attachment:9e21c8f0-31b5-4566-918b-087885010021.png)"
   ]
  },
  {
   "cell_type": "markdown",
   "id": "93dad31d-f088-4e43-abb3-60af0b8569fe",
   "metadata": {},
   "source": [
    "Que:3. What is App routing in Flask? Why do we use app routes?"
   ]
  },
  {
   "cell_type": "markdown",
   "id": "5a101c63-71de-4515-9582-98ed0b0bf5fb",
   "metadata": {},
   "source": [
    "Ans : App Routing means mapping the URLs to a specific function that will handle the logic for that URL. Modern web frameworks use more meaningful URLs to help users remember the URLs and make navigation simpler. \n",
    "\n",
    "App routing is used to map the specific URL with the associated function that is intended to perform some task.\n",
    "\n",
    "the URL ('/') is associated with the home function that returns a particular string displayed on the web page.\n",
    "\n",
    "App routes are essential in Flask because they enable developers to create multiple pages or endpoints for their web application. Each app route defines a unique URL, and when a user visits that URL, Flask calls the function that is associated with the route to generate the HTML content to be displayed on the page.\n",
    "\n",
    "For example, consider a Flask application that has three pages, one to display a login form and another one display the user's profile information and another one is home page. In this case, the login page might have the URL '/login', and the profile page might have the URL '/profile' and the home page might have the URL '/home'. By using app routes, the developer can define functions that will handle requests made to these URLs, making it easy to manage the logic for each page in a separate function.\n",
    "\n",
    "App routes can also be used to define dynamic URLs that can accept parameters, such as user IDs or product names. By using dynamic routes, a developer can create a single function to handle requests to multiple URLs, reducing the amount of duplicated code and making the application more maintainable.\n"
   ]
  },
  {
   "cell_type": "markdown",
   "id": "ddec817f-d59e-49e7-a9bf-42d74f25457f",
   "metadata": {},
   "source": [
    "Que:4. Create a “/welcome” route to display the welcome message “Welcome to ABC Corporation” and a “/” route to show the following details:\n",
    "\n",
    "Company Name: ABC Corporation\n",
    "\n",
    "Location: India\n",
    "\n",
    "Contact Detail: 999-999-9999"
   ]
  },
  {
   "cell_type": "code",
   "execution_count": null,
   "id": "b0e5daf5-90d2-4f89-8b71-0fdff2ab8645",
   "metadata": {},
   "outputs": [],
   "source": [
    "from flask import Flask\n",
    "\n",
    "app = Flask(__name__)\n",
    "\n",
    "@app.route(\"/\")\n",
    "def company_details():\n",
    "    return \"<h2>Company Name: ABC Corporation</h2><br><h2>Location: India</h2><br><h2>Contact Detail: 999-999-9999</h2>\"\n",
    "\n",
    "@app.route(\"/welcome\")\n",
    "def welcome_message():\n",
    "    return \"<h1>Welcome to ABC Corporation</h1>\"\n",
    "\n",
    "if __name__ == \"__main__\":\n",
    "    app.run(host = \"0.0.0.0\")"
   ]
  },
  {
   "attachments": {
    "4e4f28cb-a48c-4a1a-8a48-2416d8d94c31.png": {
     "image/png": "[encoded data removed]"
    }
   },
   "cell_type": "markdown",
   "id": "5a1586b5-e5b9-4848-9e97-524f88b2727d",
   "metadata": {},
   "source": [
    "![Screenshot (20).png](attachment:4e4f28cb-a48c-4a1a-8a48-2416d8d94c31.png)"
   ]
  },
  {
   "attachments": {
    "895094b3-d289-4761-8e1a-81112bb545d8.png": {
     "image/png": "[encoded data removed]"
    }
   },
   "cell_type": "markdown",
   "id": "cfda2a73-cdda-4520-9d51-e4ef3d775d25",
   "metadata": {},
   "source": [
    "![Screenshot (22).png](attachment:895094b3-d289-4761-8e1a-81112bb545d8.png)"
   ]
  },
  {
   "cell_type": "markdown",
   "id": "c3e363c2-d73d-4c72-823a-61f9116314dc",
   "metadata": {},
   "source": [
    "Que: 5.  What function is used in Flask for URL Building? Write a Python code to demonstrate the working of the url_for() function."
   ]
  },
  {
   "cell_type": "markdown",
   "id": "5ed59604-2614-4806-ba90-2b7c31cd447a",
   "metadata": {},
   "source": [
    "Ans : Flask url_for is defined as a function that enables developers to build and generate URLs on a Flask application. \n",
    "\n",
    "The url_for() function is useful because it generates URLs based on the routes defined in the application, which ensures that the URLs are consistent and will continue to work even if the URL scheme changes."
   ]
  },
  {
   "cell_type": "code",
   "execution_count": null,
   "id": "e4782156-01c3-4d0f-84ba-28118519a895",
   "metadata": {},
   "outputs": [],
   "source": [
    "from flask import Flask, url_for\n",
    "\n",
    "app = Flask(__name__)\n",
    "\n",
    "@app.route('/')\n",
    "def home():\n",
    "    return 'This is the homepage.'\n",
    "\n",
    "@app.route('/user/<username>')\n",
    "def profile(username):\n",
    "    return f'This is the profile page for {username}.'\n",
    "\n",
    "@app.route('/login')\n",
    "def login():\n",
    "    return 'Please log in.'\n",
    "\n",
    "with app.test_request_context():\n",
    "    print(url_for('home'))  \n",
    "    print(url_for('login')) \n",
    "    print(url_for('login', next='/'))  \n",
    "    print(url_for('profile', username='Milan'))  "
   ]
  }
 ],
 "metadata": {
  "kernelspec": {
   "display_name": "Python 3 (ipykernel)",
   "language": "python",
   "name": "python3"
  },
  "language_info": {
   "codemirror_mode": {
    "name": "ipython",
    "version": 3
   },
   "file_extension": ".py",
   "mimetype": "text/x-python",
   "name": "python",
   "nbconvert_exporter": "python",
   "pygments_lexer": "ipython3",
   "version": "3.10.6"
  }
 },
 "nbformat": 4,
 "nbformat_minor": 5
}
